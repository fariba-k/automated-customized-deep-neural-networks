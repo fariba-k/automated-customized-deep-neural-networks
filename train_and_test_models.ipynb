{
 "cells": [
  {
   "cell_type": "markdown",
   "metadata": {},
   "source": [
    "# Automated Customized Deep Neural Network"
   ]
  },
  {
   "cell_type": "markdown",
   "metadata": {},
   "source": [
    "If you have ever wanted to build a model using deep learning, you have encountered the big question of how many layers I should use? or what should be the size of this layers?\n",
    "\n",
    "Using `tensorlfow` or even `keras` sequential model makes it harded to simply add one or multiple layer. You need to modify a the code before each run or you need to write different blocks of code for models with various number of layers. However, `keras` functional api makes it easy to use a for loop and add as many layers as you like in few lines of code. Using this feature, I constructed five classes of deep architecture startin from a simple dense fully-connected deep network to a complex hybrid convolutional autoencoder. \n",
    "\n",
    "The classes are initiated given the number of nodes in each layer or the type of each layer and then they build the desired model and makes them ready for you to train and test.\n",
    "\n",
    "For simplicity, other parameters like activation functions, optimizer, loss, etc. are hard-coded. I chose them based on what is usually used in a similar network. But if you like, you can add them to you class init params and even play with those as well. I used `adam` optimizer for all of the classes and `categorical_crossentropy` and `mse` for losses. I also add a dropout layer right after the input layer and after the encoded layer if there's any. The default value of the `dropout` is 0.0001 and mainly I used it for simplicity in my coding and for loop.\n",
    "\n",
    "First, I go over each class and give and example of the usage of it. \n",
    "At last, I will bring and example of training few DNNs with different number of nodes and layers to compare them when training a classifier for MNIST digit dataset.\n",
    "\n",
    "If you are not familiar with neural networks and you don't any knowledge on the topic please use google and learn the basic concept before you dive into this library :)"
   ]
  },
  {
   "cell_type": "markdown",
   "metadata": {},
   "source": [
    "## 1. Deep Neural Networks\n",
    "A Deep Neural Network is built of an input layer, a bunch of hidden layers and and output layers which can be the result of classification or in some cases the result of regression (note that each case should use it's specific loss function)\n",
    "\n",
    "Below is a simple illustration of a DNN:\n",
    "\n",
    "![DNN](figures/DNN.png \"DNN\")\n",
    "\n",
    "The class I designed is used for classification with relu actication function for all the hidden layers and sigmoid for the final output layer. You can initiate your model by giving a list of integers which contain the number of nodes in each layer including your input and output layers! Yeah! It's just that easy to make any simple deep network.\n",
    "\n",
    "Let's say your input has 784 feature(this is actually the number of pixels in MNIST digit data which are 28x28 images), you have 10 classes (cause there are 10 digits), and you want to have a layer with 256 nodes right after the input and another layer with 32 nodes after that. Just look at the example below and follow it:"
   ]
  },
  {
   "cell_type": "code",
   "execution_count": 1,
   "metadata": {},
   "outputs": [],
   "source": [
    "from neural_networks import DNN"
   ]
  },
  {
   "cell_type": "code",
   "execution_count": 2,
   "metadata": {},
   "outputs": [
    {
     "name": "stdout",
     "output_type": "stream",
     "text": [
      "Model: \"deep_neural_network\"\n",
      "_________________________________________________________________\n",
      "Layer (type)                 Output Shape              Param #   \n",
      "=================================================================\n",
      "input_1 (InputLayer)         [(None, 784)]             0         \n",
      "_________________________________________________________________\n",
      "dense (Dense)                (None, 256)               200960    \n",
      "_________________________________________________________________\n",
      "dense_1 (Dense)              (None, 32)                8224      \n",
      "_________________________________________________________________\n",
      "dense_2 (Dense)              (None, 10)                330       \n",
      "=================================================================\n",
      "Total params: 209,514\n",
      "Trainable params: 209,514\n",
      "Non-trainable params: 0\n",
      "_________________________________________________________________\n"
     ]
    }
   ],
   "source": [
    "dnn_model = DNN(layer_size=[784, 256, 32, 10])\n",
    "dnn_model.print_summary()"
   ]
  },
  {
   "cell_type": "markdown",
   "metadata": {},
   "source": [
    "## 2. Autoencoders\n",
    "\n",
    "Autoencoders are mostly use when you don't have label for your data. The purpose is to shrink your giant input to a more abstract representation. The model is train in a way that the encoded input carries enough information so that it can reconstruct the original input as close as possible. \n",
    "\n",
    "Below is a simple illustration of an AE :\n",
    "\n",
    "![AE](figures/AE.png \"AE\")\n",
    "\n",
    "The autoencoder I designed, uses relu activation function for all layers. For building your desired autoencoder, you just need to input a list of integers containing the number of nodes in each layer from the input layer to the encoded input layer (the middle part) the class will automatically mirror this setting for the decoder part. \n",
    "\n",
    "Let's say you want to create an autoencoder to shrink your MNIST data into 32 features. And you want to have another hidden layer in between of the input and encoded space with 256 nodes. So you entire autoencoder will have the following number of nodes in this order: 784, 256, 32, 256, 784. You just need to provide a list containing [784, 256, 32] just like the example below:"
   ]
  },
  {
   "cell_type": "code",
   "execution_count": 3,
   "metadata": {},
   "outputs": [],
   "source": [
    "from neural_networks import AE"
   ]
  },
  {
   "cell_type": "code",
   "execution_count": 4,
   "metadata": {},
   "outputs": [
    {
     "name": "stdout",
     "output_type": "stream",
     "text": [
      "Model: \"autoencoder\"\n",
      "_________________________________________________________________\n",
      "Layer (type)                 Output Shape              Param #   \n",
      "=================================================================\n",
      "input_2 (InputLayer)         [(None, 784)]             0         \n",
      "_________________________________________________________________\n",
      "dropout (Dropout)            (None, 784)               0         \n",
      "_________________________________________________________________\n",
      "dense_3 (Dense)              (None, 256)               200960    \n",
      "_________________________________________________________________\n",
      "dense_4 (Dense)              (None, 32)                8224      \n",
      "_________________________________________________________________\n",
      "dropout_1 (Dropout)          (None, 32)                0         \n",
      "_________________________________________________________________\n",
      "dense_5 (Dense)              (None, 256)               8448      \n",
      "_________________________________________________________________\n",
      "dense_6 (Dense)              (None, 784)               201488    \n",
      "=================================================================\n",
      "Total params: 419,120\n",
      "Trainable params: 419,120\n",
      "Non-trainable params: 0\n",
      "_________________________________________________________________\n",
      "Model: \"encoder\"\n",
      "_________________________________________________________________\n",
      "Layer (type)                 Output Shape              Param #   \n",
      "=================================================================\n",
      "input_2 (InputLayer)         [(None, 784)]             0         \n",
      "_________________________________________________________________\n",
      "dropout (Dropout)            (None, 784)               0         \n",
      "_________________________________________________________________\n",
      "dense_3 (Dense)              (None, 256)               200960    \n",
      "_________________________________________________________________\n",
      "dense_4 (Dense)              (None, 32)                8224      \n",
      "=================================================================\n",
      "Total params: 209,184\n",
      "Trainable params: 209,184\n",
      "Non-trainable params: 0\n",
      "_________________________________________________________________\n"
     ]
    }
   ],
   "source": [
    "dnn_model = AE(encoder_layer_size=[784, 256, 32])\n",
    "dnn_model.print_summary()"
   ]
  },
  {
   "cell_type": "markdown",
   "metadata": {},
   "source": [
    "This class provides two models: \n",
    "1. Autoencoder: which gives you the reconstructed input\n",
    "2. Encoder: which provides the encoded features"
   ]
  },
  {
   "cell_type": "markdown",
   "metadata": {},
   "source": [
    "## 3. Hybrid Neural Networks"
   ]
  },
  {
   "cell_type": "markdown",
   "metadata": {},
   "source": [
    "We are getting to the fun parts! When data is labeled and you are looking for dimension reduction, with neural networks you can build a hybrid network that can act as both an autoencoder and a classifier. After you build your decoder block you can also take another branch from the encoded data and connect it to the output layer indicating class labels. Keras functional api will let you to have multiple outputs and have separate appropriate loss functions for each of them.\n",
    "\n",
    "Take a look at this figure for better understanding the base architecture of a hybrid network:\n",
    "\n",
    "![HNN](figures/HNN.png \"HNN\")\n",
    "\n",
    "You can train and fine tune this model in a way to reduce the mse for reconstructed input and reduce categorical cross entropy for the classification output layer.\n",
    "\n",
    "Now assume that you want to build an autoencoder same as previous section, but you also have labeled data and you want to classifiy it in 10 groups. Below is an example of how to use HNN class to create this network:\n"
   ]
  },
  {
   "cell_type": "code",
   "execution_count": 5,
   "metadata": {},
   "outputs": [],
   "source": [
    "from neural_networks import HNN"
   ]
  },
  {
   "cell_type": "code",
   "execution_count": 6,
   "metadata": {},
   "outputs": [
    {
     "name": "stdout",
     "output_type": "stream",
     "text": [
      "Model: \"hybrid_neural_network\"\n",
      "__________________________________________________________________________________________________\n",
      "Layer (type)                    Output Shape         Param #     Connected to                     \n",
      "==================================================================================================\n",
      "input_3 (InputLayer)            [(None, 784)]        0                                            \n",
      "__________________________________________________________________________________________________\n",
      "dropout_2 (Dropout)             (None, 784)          0           input_3[0][0]                    \n",
      "__________________________________________________________________________________________________\n",
      "dense_7 (Dense)                 (None, 256)          200960      dropout_2[0][0]                  \n",
      "__________________________________________________________________________________________________\n",
      "dense_8 (Dense)                 (None, 32)           8224        dense_7[0][0]                    \n",
      "__________________________________________________________________________________________________\n",
      "dropout_3 (Dropout)             (None, 32)           0           dense_8[0][0]                    \n",
      "__________________________________________________________________________________________________\n",
      "flatten (Flatten)               (None, 32)           0           dense_8[0][0]                    \n",
      "__________________________________________________________________________________________________\n",
      "dense_9 (Dense)                 (None, 256)          8448        dropout_3[0][0]                  \n",
      "__________________________________________________________________________________________________\n",
      "dense_11 (Dense)                (None, 10)           330         flatten[0][0]                    \n",
      "__________________________________________________________________________________________________\n",
      "dense_10 (Dense)                (None, 784)          201488      dense_9[0][0]                    \n",
      "==================================================================================================\n",
      "Total params: 419,450\n",
      "Trainable params: 419,450\n",
      "Non-trainable params: 0\n",
      "__________________________________________________________________________________________________\n",
      "Model: \"encoder\"\n",
      "_________________________________________________________________\n",
      "Layer (type)                 Output Shape              Param #   \n",
      "=================================================================\n",
      "input_3 (InputLayer)         [(None, 784)]             0         \n",
      "_________________________________________________________________\n",
      "dropout_2 (Dropout)          (None, 784)               0         \n",
      "_________________________________________________________________\n",
      "dense_7 (Dense)              (None, 256)               200960    \n",
      "_________________________________________________________________\n",
      "dense_8 (Dense)              (None, 32)                8224      \n",
      "=================================================================\n",
      "Total params: 209,184\n",
      "Trainable params: 209,184\n",
      "Non-trainable params: 0\n",
      "_________________________________________________________________\n"
     ]
    }
   ],
   "source": [
    "dnn_model = HNN(encoder_layer_size=[784, 256, 32], num_classes=10)\n",
    "dnn_model.print_summary()"
   ]
  },
  {
   "cell_type": "markdown",
   "metadata": {},
   "source": [
    "## 4. Convolutional Neural Networks\n",
    "\n",
    "These types of networks are used when the neighbors of each single feature, also carry information about that feature. By looking and windows of feature, you can extract more information and benefit from their relation.\n",
    "\n",
    "In the figure below, you can see how we can start from a 2-D data (for example an image) and use a convolution kernel to shrink it to a smaller 2-D data and finally by flattening that we can connect it to the output layer for classification purposes.\n",
    "\n",
    "![CNN](figures/CNN.jpg \"CNN\")\n",
    "\n",
    "If you are familiar with CNNs you should know that we have different types of layers including convolutional(c), maxpooling(m), dense(d), upsampling(u), ... Therefore, in this class you need to also give a list of layer types when you are initiating the network. \n",
    "\n",
    "Let's say you want to create a CNN with the following order of layers with kernel size of 10 for all convolutional layers:\n",
    "\n",
    "1. Input: 28x28 (MNIST digit)\n",
    "2. Convolutional layer: 64 filters\n",
    "3. Maxpooling layer: pool size 2x2\n",
    "4. Convolutional layer: 16 filters\n",
    "5. Maxpooling layer: pool size 2x2\n",
    "6. Dense layer: 32 nodes\n",
    "7. Dense ouput layer: 10 nodes (cause there are 10 digits)\n",
    "\n",
    "You can use the following code to build this network:\n"
   ]
  },
  {
   "cell_type": "code",
   "execution_count": 7,
   "metadata": {},
   "outputs": [],
   "source": [
    "from neural_networks import CNN"
   ]
  },
  {
   "cell_type": "code",
   "execution_count": 8,
   "metadata": {},
   "outputs": [
    {
     "name": "stdout",
     "output_type": "stream",
     "text": [
      "Model: \"cnn\"\n",
      "_________________________________________________________________\n",
      "Layer (type)                 Output Shape              Param #   \n",
      "=================================================================\n",
      "input_4 (InputLayer)         [(None, 28, 28, 1)]       0         \n",
      "_________________________________________________________________\n",
      "dropout_4 (Dropout)          (None, 28, 28, 1)         0         \n",
      "_________________________________________________________________\n",
      "conv2d (Conv2D)              (None, 28, 28, 64)        6464      \n",
      "_________________________________________________________________\n",
      "max_pooling2d (MaxPooling2D) (None, 14, 14, 64)        0         \n",
      "_________________________________________________________________\n",
      "conv2d_1 (Conv2D)            (None, 14, 14, 16)        102416    \n",
      "_________________________________________________________________\n",
      "max_pooling2d_1 (MaxPooling2 (None, 7, 7, 16)          0         \n",
      "_________________________________________________________________\n",
      "flatten_1 (Flatten)          (None, 784)               0         \n",
      "_________________________________________________________________\n",
      "dense_12 (Dense)             (None, 32)                25120     \n",
      "_________________________________________________________________\n",
      "dense_13 (Dense)             (None, 10)                330       \n",
      "=================================================================\n",
      "Total params: 134,330\n",
      "Trainable params: 134,330\n",
      "Non-trainable params: 0\n",
      "_________________________________________________________________\n"
     ]
    }
   ],
   "source": [
    "cae_model = CNN(input_dim=(28,28,1), layers='cmcmdd' , layers_param=[64,2,16,2,32,10], kernel_size=10)\n",
    "cae_model.print_summary()"
   ]
  },
  {
   "cell_type": "markdown",
   "metadata": {},
   "source": [
    "# Exprtiments\n",
    "\n",
    "Now let's get to work and see how we can actually benefit from this library. I will only provide an example for DNN but you can use other classes in the same fashion.\n",
    "\n",
    "I want to train a classifier for MNIST digit data, but I don't know what number of layers with how many nodes I should choose. I can easily create a bunch of different settings and create/train different models and compare them with each other."
   ]
  },
  {
   "cell_type": "code",
   "execution_count": 15,
   "metadata": {},
   "outputs": [],
   "source": [
    "import numpy as np\n",
    "import seaborn as sns\n",
    "import matplotlib.pyplot as plt\n",
    "import keras\n",
    "from keras import backend as K \n",
    "from keras.datasets import mnist\n",
    "from sklearn.metrics import confusion_matrix\n",
    "from sklearn.metrics import accuracy_score\n",
    "from sklearn.preprocessing import OneHotEncoder\n",
    "from termcolor import colored"
   ]
  },
  {
   "cell_type": "markdown",
   "metadata": {},
   "source": [
    "## 1. Load MNIST digit data"
   ]
  },
  {
   "cell_type": "code",
   "execution_count": 22,
   "metadata": {},
   "outputs": [],
   "source": [
    "(x_train, y_train), (x_test, y_test) = mnist.load_data()\n",
    "x_train = x_train.astype('float32') / 255.\n",
    "x_test = x_test.astype('float32') / 255.\n",
    "x_train = x_train.reshape((len(x_train), np.prod(x_train.shape[1:])))\n",
    "x_test = x_test.reshape((len(x_test), np.prod(x_test.shape[1:])))"
   ]
  },
  {
   "cell_type": "markdown",
   "metadata": {},
   "source": [
    "## Select fewer samples to make it more challenging"
   ]
  },
  {
   "cell_type": "code",
   "execution_count": 23,
   "metadata": {},
   "outputs": [
    {
     "name": "stdout",
     "output_type": "stream",
     "text": [
      "(500, 784) (500,)\n",
      "(100, 784) (100,)\n"
     ]
    }
   ],
   "source": [
    "x_train = x_train[:500,:]\n",
    "x_test = x_test[:100,:]\n",
    "y_train = y_train[:500]\n",
    "y_test = y_test[:100]\n",
    "print(x_train.shape, y_train.shape)\n",
    "print(x_test.shape, y_test.shape)"
   ]
  },
  {
   "cell_type": "markdown",
   "metadata": {},
   "source": [
    "### Convert labels to one_hot_vector format"
   ]
  },
  {
   "cell_type": "code",
   "execution_count": 24,
   "metadata": {},
   "outputs": [],
   "source": [
    "one_hot_y_train = OneHotEncoder().fit_transform(y_train.reshape(len(y_train),1)).toarray()\n",
    "one_hot_y_test = OneHotEncoder().fit_transform(y_test.reshape(len(y_test),1)).toarray()"
   ]
  },
  {
   "cell_type": "markdown",
   "metadata": {},
   "source": [
    "## 2. Build, train, and evaluate models"
   ]
  },
  {
   "cell_type": "code",
   "execution_count": 25,
   "metadata": {},
   "outputs": [],
   "source": [
    "models_layers = [[784, 32, 10],\n",
    "                 [784, 64, 32, 10], \n",
    "                 [784, 128, 64, 32, 10], \n",
    "                 [784, 256, 128, 64, 32, 10], \n",
    "                 [784, 512, 256, 128, 64, 32, 10]]"
   ]
  },
  {
   "cell_type": "code",
   "execution_count": 30,
   "metadata": {
    "scrolled": false
   },
   "outputs": [
    {
     "name": "stdout",
     "output_type": "stream",
     "text": [
      "---------------------------------------------------------------------------------------\n",
      "Training model with the following configuration:  \u001b[34m[784, 32, 10]\u001b[0m\n",
      "Model: \"deep_neural_network\"\n",
      "_________________________________________________________________\n",
      "Layer (type)                 Output Shape              Param #   \n",
      "=================================================================\n",
      "input_1 (InputLayer)         [(None, 784)]             0         \n",
      "_________________________________________________________________\n",
      "dense (Dense)                (None, 32)                25120     \n",
      "_________________________________________________________________\n",
      "dense_1 (Dense)              (None, 10)                330       \n",
      "=================================================================\n",
      "Total params: 25,450\n",
      "Trainable params: 25,450\n",
      "Non-trainable params: 0\n",
      "_________________________________________________________________\n",
      "\u001b[32mAccuracy for this model is: %37\u001b[0m\n"
     ]
    },
    {
     "data": {
      "image/png": "[encoded data removed]",
      "text/plain": [
       "<Figure size 720x504 with 2 Axes>"
      ]
     },
     "metadata": {
      "needs_background": "light"
     },
     "output_type": "display_data"
    },
    {
     "name": "stdout",
     "output_type": "stream",
     "text": [
      "---------------------------------------------------------------------------------------\n",
      "Training model with the following configuration:  \u001b[34m[784, 64, 32, 10]\u001b[0m\n",
      "Model: \"deep_neural_network\"\n",
      "_________________________________________________________________\n",
      "Layer (type)                 Output Shape              Param #   \n",
      "=================================================================\n",
      "input_1 (InputLayer)         [(None, 784)]             0         \n",
      "_________________________________________________________________\n",
      "dense (Dense)                (None, 64)                50240     \n",
      "_________________________________________________________________\n",
      "dense_1 (Dense)              (None, 32)                2080      \n",
      "_________________________________________________________________\n",
      "dense_2 (Dense)              (None, 10)                330       \n",
      "=================================================================\n",
      "Total params: 52,650\n",
      "Trainable params: 52,650\n",
      "Non-trainable params: 0\n",
      "_________________________________________________________________\n",
      "\u001b[32mAccuracy for this model is: %44\u001b[0m\n"
     ]
    },
    {
     "data": {
      "image/png": "[encoded data removed]",
      "text/plain": [
       "<Figure size 720x504 with 2 Axes>"
      ]
     },
     "metadata": {
      "needs_background": "light"
     },
     "output_type": "display_data"
    },
    {
     "name": "stdout",
     "output_type": "stream",
     "text": [
      "---------------------------------------------------------------------------------------\n",
      "Training model with the following configuration:  \u001b[34m[784, 128, 64, 32, 10]\u001b[0m\n",
      "Model: \"deep_neural_network\"\n",
      "_________________________________________________________________\n",
      "Layer (type)                 Output Shape              Param #   \n",
      "=================================================================\n",
      "input_1 (InputLayer)         [(None, 784)]             0         \n",
      "_________________________________________________________________\n",
      "dense (Dense)                (None, 128)               100480    \n",
      "_________________________________________________________________\n",
      "dense_1 (Dense)              (None, 64)                8256      \n",
      "_________________________________________________________________\n",
      "dense_2 (Dense)              (None, 32)                2080      \n",
      "_________________________________________________________________\n",
      "dense_3 (Dense)              (None, 10)                330       \n",
      "=================================================================\n",
      "Total params: 111,146\n",
      "Trainable params: 111,146\n",
      "Non-trainable params: 0\n",
      "_________________________________________________________________\n",
      "\u001b[32mAccuracy for this model is: %47\u001b[0m\n"
     ]
    },
    {
     "data": {
      "image/png": "[encoded data removed]",
      "text/plain": [
       "<Figure size 720x504 with 2 Axes>"
      ]
     },
     "metadata": {
      "needs_background": "light"
     },
     "output_type": "display_data"
    },
    {
     "name": "stdout",
     "output_type": "stream",
     "text": [
      "---------------------------------------------------------------------------------------\n",
      "Training model with the following configuration:  \u001b[34m[784, 256, 128, 64, 32, 10]\u001b[0m\n",
      "Model: \"deep_neural_network\"\n",
      "_________________________________________________________________\n",
      "Layer (type)                 Output Shape              Param #   \n",
      "=================================================================\n",
      "input_1 (InputLayer)         [(None, 784)]             0         \n",
      "_________________________________________________________________\n",
      "dense (Dense)                (None, 256)               200960    \n",
      "_________________________________________________________________\n",
      "dense_1 (Dense)              (None, 128)               32896     \n",
      "_________________________________________________________________\n",
      "dense_2 (Dense)              (None, 64)                8256      \n",
      "_________________________________________________________________\n",
      "dense_3 (Dense)              (None, 32)                2080      \n",
      "_________________________________________________________________\n",
      "dense_4 (Dense)              (None, 10)                330       \n",
      "=================================================================\n",
      "Total params: 244,522\n",
      "Trainable params: 244,522\n",
      "Non-trainable params: 0\n",
      "_________________________________________________________________\n",
      "\u001b[32mAccuracy for this model is: %59\u001b[0m\n"
     ]
    },
    {
     "data": {
      "image/png": "[encoded data removed]",
      "text/plain": [
       "<Figure size 720x504 with 2 Axes>"
      ]
     },
     "metadata": {
      "needs_background": "light"
     },
     "output_type": "display_data"
    },
    {
     "name": "stdout",
     "output_type": "stream",
     "text": [
      "---------------------------------------------------------------------------------------\n",
      "Training model with the following configuration:  \u001b[34m[784, 512, 256, 128, 64, 32, 10]\u001b[0m\n",
      "Model: \"deep_neural_network\"\n",
      "_________________________________________________________________\n",
      "Layer (type)                 Output Shape              Param #   \n",
      "=================================================================\n",
      "input_1 (InputLayer)         [(None, 784)]             0         \n",
      "_________________________________________________________________\n",
      "dense (Dense)                (None, 512)               401920    \n",
      "_________________________________________________________________\n",
      "dense_1 (Dense)              (None, 256)               131328    \n",
      "_________________________________________________________________\n",
      "dense_2 (Dense)              (None, 128)               32896     \n",
      "_________________________________________________________________\n",
      "dense_3 (Dense)              (None, 64)                8256      \n",
      "_________________________________________________________________\n",
      "dense_4 (Dense)              (None, 32)                2080      \n",
      "_________________________________________________________________\n",
      "dense_5 (Dense)              (None, 10)                330       \n",
      "=================================================================\n",
      "Total params: 576,810\n",
      "Trainable params: 576,810\n",
      "Non-trainable params: 0\n",
      "_________________________________________________________________\n",
      "\u001b[32mAccuracy for this model is: %65\u001b[0m\n"
     ]
    },
    {
     "data": {
      "image/png": "[encoded data removed]",
      "text/plain": [
       "<Figure size 720x504 with 2 Axes>"
      ]
     },
     "metadata": {
      "needs_background": "light"
     },
     "output_type": "display_data"
    }
   ],
   "source": [
    "for model in models_layers:\n",
    "    \n",
    "    print('---------------------------------------------------------------------------------------')\n",
    "    print('Training model with the following configuration: ', colored(model,'blue'))\n",
    "    K.clear_session() # this will clear previous models from the history\n",
    "    dnn_model = DNN(layer_size=model)\n",
    "    dnn_model.print_summary()\n",
    "    dnn_model.dnn_model.fit(x_train,one_hot_y_train,\n",
    "                            epochs=5,\n",
    "                            batch_size=256,\n",
    "                            validation_split=0.3,\n",
    "                            verbose=0)\n",
    "    predict_probabilities = dnn_model.dnn_model.predict(x_test)\n",
    "    y_predict_classes = np.argmax(predict_probabilities, axis=1)\n",
    "    print(colored(('Accuracy for this model is: %' + str(int(accuracy_score(y_test, y_predict_classes)*100))), 'green'))\n",
    "    \n",
    "    plt.figure(figsize=(10,7))\n",
    "    ax = sns.heatmap(confusion_matrix(y_test,y_predict_classes), annot=True)\n",
    "    ax.set(xlabel='Predict Label', ylabel='True Label')\n",
    "    plt.show()\n"
   ]
  },
  {
   "cell_type": "code",
   "execution_count": null,
   "metadata": {},
   "outputs": [],
   "source": []
  }
 ],
 "metadata": {
  "kernelspec": {
   "display_name": "Python 3",
   "language": "python",
   "name": "python3"
  },
  "language_info": {
   "codemirror_mode": {
    "name": "ipython",
    "version": 3
   },
   "file_extension": ".py",
   "mimetype": "text/x-python",
   "name": "python",
   "nbconvert_exporter": "python",
   "pygments_lexer": "ipython3",
   "version": "3.7.4"
  }
 },
 "nbformat": 4,
 "nbformat_minor": 2
}
