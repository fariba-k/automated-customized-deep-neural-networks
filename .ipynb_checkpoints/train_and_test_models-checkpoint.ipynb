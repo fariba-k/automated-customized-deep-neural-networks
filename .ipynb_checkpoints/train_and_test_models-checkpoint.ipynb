{
 "cells": [
  {
   "cell_type": "code",
   "execution_count": null,
   "metadata": {},
   "outputs": [],
   "source": [
    "class NeuralNetworks:\n",
    "    def __init__(self, layer_size):\n",
    "        self.layer_size = layer_size\n",
    "        self.out = cal_mul(layer_size,3)\n",
    "        \n",
    "    def cal_mul(a,b):\n",
    "        return [x*b for x in a]\n",
    "    \n",
    "print(Neur)\n"
   ]
  }
 ],
 "metadata": {
  "kernelspec": {
   "display_name": "Python 3",
   "language": "python",
   "name": "python3"
  },
  "language_info": {
   "codemirror_mode": {
    "name": "ipython",
    "version": 3
   },
   "file_extension": ".py",
   "mimetype": "text/x-python",
   "name": "python",
   "nbconvert_exporter": "python",
   "pygments_lexer": "ipython3",
   "version": "3.7.4"
  }
 },
 "nbformat": 4,
 "nbformat_minor": 2
}
